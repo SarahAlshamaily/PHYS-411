{
 "cells": [
  {
   "cell_type": "code",
   "execution_count": 64,
   "metadata": {},
   "outputs": [],
   "source": [
    "#Importing packages needed\n",
    "import scipy\n",
    "from scipy import stats\n",
    "import numpy as np\n",
    "import matplotlib\n",
    "import matplotlib.pyplot as plt\n",
    "import pandas as pd\n",
    "import seaborn as sns\n",
    "import datetime as dt\n",
    "from datetime import datetime\n",
    "from numpy import absolute, sqrt, log\n",
    "from textwrap import wrap\n",
    "from IPython.display import Math, display\n",
    "import sys\n",
    "%matplotlib inline"
   ]
  },
  {
   "cell_type": "markdown",
   "metadata": {},
   "source": [
    "**95% Confidence interval function:**"
   ]
  },
  {
   "cell_type": "code",
   "execution_count": 32,
   "metadata": {},
   "outputs": [],
   "source": [
    "def checkcorr(data,confidence=0.95):\n",
    "    a = 1 * np.array(data)\n",
    "    n = len(a)\n",
    "    m, se = np.mean(a), scipy.stats.sem(a)\n",
    "    h = se * scipy.stats.t.ppf((1+confidence)/2., n-1)\n",
    "    return m, m-h, m+h"
   ]
  },
  {
   "cell_type": "markdown",
   "metadata": {},
   "source": [
    "**Important function:**"
   ]
  },
  {
   "cell_type": "code",
   "execution_count": 26,
   "metadata": {},
   "outputs": [],
   "source": [
    "def c1(a,b,c):\n",
    "    s = 0\n",
    "    ss = 0\n",
    "    for i in range(len(a)):\n",
    "        s = s + b[i]*c[i]\n",
    "        ss = ss + (b[i]**2)\n",
    "    D = s - len(a)*np.nanmean(b)*np.nanmean(c)\n",
    "    E = ss - len(a)*np.nanmean(b)**2\n",
    "    F = D/E\n",
    "    G = np.nanmean(c) - np.nanmean(b)*F\n",
    "    return(G,F)"
   ]
  },
  {
   "cell_type": "markdown",
   "metadata": {},
   "source": [
    "**Question 2: Quality of Dummy Weather Forecast**"
   ]
  },
  {
   "cell_type": "code",
   "execution_count": 76,
   "metadata": {},
   "outputs": [],
   "source": [
    "#Define a function to calculate rxy\n",
    "def Rxy(a,b,c):\n",
    "    d = 0\n",
    "    e = 0\n",
    "    f = 0\n",
    "    bmean = np.nanmean(b)\n",
    "    cmean = np.nanmean(c)\n",
    "    for n in range(len(a)):\n",
    "        d = d + ((b[n] - bmean)*(c[n]-cmean))\n",
    "        e = e + ((b[n]-bmean)**2)\n",
    "        f = f + ((c[n]-cmean)**2)\n",
    "        n = n + 1\n",
    "    rxy = d/(np.sqrt(e*f))\n",
    "    return(rxy)"
   ]
  },
  {
   "cell_type": "markdown",
   "metadata": {},
   "source": [
    "**Question 3: Comparison of Confidence Intervals for Minute-Resolution and Hour-Resolution Data**"
   ]
  },
  {
   "cell_type": "code",
   "execution_count": 3,
   "metadata": {},
   "outputs": [
    {
     "ename": "NameError",
     "evalue": "name 'datetime' is not defined",
     "output_type": "error",
     "traceback": [
      "\u001b[0;31m---------------------------------------------------------------------------\u001b[0m",
      "\u001b[0;31mNameError\u001b[0m                                 Traceback (most recent call last)",
      "\u001b[0;32m<ipython-input-3-d157a8f8459c>\u001b[0m in \u001b[0;36m<module>\u001b[0;34m\u001b[0m\n\u001b[1;32m      1\u001b[0m \u001b[0;31m#Fix the timestamp in Python\u001b[0m\u001b[0;34m\u001b[0m\u001b[0;34m\u001b[0m\u001b[0;34m\u001b[0m\u001b[0m\n\u001b[0;32m----> 2\u001b[0;31m \u001b[0moffset\u001b[0m \u001b[0;34m=\u001b[0m \u001b[0mdatetime\u001b[0m\u001b[0;34m(\u001b[0m\u001b[0;36m1970\u001b[0m\u001b[0;34m,\u001b[0m \u001b[0;36m1\u001b[0m\u001b[0;34m,\u001b[0m \u001b[0;36m1\u001b[0m\u001b[0;34m)\u001b[0m\u001b[0;34m.\u001b[0m\u001b[0mtoordinal\u001b[0m\u001b[0;34m(\u001b[0m\u001b[0;34m)\u001b[0m \u001b[0;34m+\u001b[0m \u001b[0;36m366\u001b[0m\u001b[0;34m\u001b[0m\u001b[0;34m\u001b[0m\u001b[0m\n\u001b[0m\u001b[1;32m      3\u001b[0m \u001b[0mgood_timestamp\u001b[0m \u001b[0;34m=\u001b[0m \u001b[0mpd\u001b[0m\u001b[0;34m.\u001b[0m\u001b[0mto_datetime\u001b[0m\u001b[0;34m(\u001b[0m\u001b[0;36m719529\u001b[0m \u001b[0;34m-\u001b[0m \u001b[0moffset\u001b[0m\u001b[0;34m,\u001b[0m \u001b[0munit\u001b[0m\u001b[0;34m=\u001b[0m\u001b[0;34m'D'\u001b[0m\u001b[0;34m)\u001b[0m\u001b[0;34m\u001b[0m\u001b[0;34m\u001b[0m\u001b[0m\n\u001b[1;32m      4\u001b[0m \u001b[0;34m\u001b[0m\u001b[0m\n\u001b[1;32m      5\u001b[0m \u001b[0;31m#Import data\u001b[0m\u001b[0;34m\u001b[0m\u001b[0;34m\u001b[0m\u001b[0;34m\u001b[0m\u001b[0m\n",
      "\u001b[0;31mNameError\u001b[0m: name 'datetime' is not defined"
     ]
    }
   ],
   "source": [
    "#Fix the timestamp in Python\n",
    "offset = datetime(1970, 1, 1).toordinal() + 366\n",
    "good_timestamp = pd.to_datetime(719529 - offset, unit='D')\n",
    "\n",
    "#Import data\n",
    "dat1 = pd.read_csv(\"UVicSci_temperature_2019.dat\",header=2)\n",
    "dat2 = pd.read_csv(\"AllStations_temperature_h_2019.dat\",header=1)\n",
    "\n",
    "#Obtain the required data\n",
    "#Minute\n",
    "dates = pd.date_range(start='2013-12-31 17:00:00.000000',end='2019-08-30 16:59:00.000000',freq='min')\n",
    "dat1.insert(loc=0,column='Time',value=len(dates))\n",
    "dat1a = dat1.rename(index=str,columns={\"1973788\": \"Temperature\"})\n",
    "datm = dat1a.set_index('Time')\n",
    "#Hour\n",
    "dat2a = dat2.rename(index=str,columns={\"Temperature\"})\n",
    "columns = dat2a.columns.tolist()\n",
    "columns = columns[-1:]+columns[:-1]\n",
    "dat2b = dat2a[cols]\n",
    "dath = dat2b.set_index('Time')"
   ]
  },
  {
   "cell_type": "code",
   "execution_count": null,
   "metadata": {},
   "outputs": [],
   "source": [
    "#Range of data required\n",
    "dath7 = dath.loc['2017-07-01 00:00:00':'2017-07-01 23:59']\n",
    "dath8 = dath.loc['2018-07-01 00:00:00':'2018-07-01 23:59']\n",
    "datm7 = datm.loc['2017-07-01 00:00:00':'2018-07-01 23:59']\n",
    "datm8 = datm.loc['2018-07-01 00:00:00':'2018-07-01 23:59']\n",
    "\n",
    "#Plot\n",
    "dath7['Temperature'].plot(label='Temperature (Hours)',=color'red')\n",
    "datm7['Temperature'].plot(label='Temperature (Minutes)',color='blue')\n",
    "plt.title('Temperature from 2017-07-01')\n",
    "plt.ylabel('Temp')\n",
    "plt.xlabel('Time')\n",
    "plt.legend()\n",
    "plt.grid()\n",
    "plt.show()\n",
    "\n",
    "dath8['Temperature'].plot(label='Temperature (Hours)',=color'red')\n",
    "datm8['Temperature'].plot(label='Temperature (Minutes)',color='blue')\n",
    "plt.title('Temperature from 2018-07-01')\n",
    "plt.ylabel('Temp')\n",
    "plt.xlabel('Time')\n",
    "plt.legend()\n",
    "plt.grid()\n",
    "plt.show()"
   ]
  },
  {
   "cell_type": "code",
   "execution_count": null,
   "metadata": {},
   "outputs": [],
   "source": [
    "#Calculating means for both sets\n",
    "dath7_avg = np.nanmean(dath7['Temperature'])\n",
    "datm7_avg = np.nanmean(datm7['Temperature'])\n",
    "dath8_avg = np.nanmean(dath8['Temperature'])\n",
    "datm8_avg = np.nanmean(datm8['Temperature'])\n",
    "Print('Mean for 2017 hourly is:',dath7_avg)\n",
    "Print('Mean for 2018 hourly is:',dath8_avg)\n",
    "Print('Mean for 2017 minute is:',datm7_avg)\n",
    "Print('Mean for 2018 minute is:',datm8_avg)"
   ]
  },
  {
   "cell_type": "markdown",
   "metadata": {},
   "source": [
    "**Question 4: Linear Dependence of Wave Height and Wind Speed**"
   ]
  },
  {
   "cell_type": "code",
   "execution_count": 27,
   "metadata": {},
   "outputs": [],
   "source": [
    "#Importing required data to answer question\n",
    "windwave = pd.read_csv(\"WindWaveData.dat\",header=None,delimiter=r\"\\s+\")"
   ]
  },
  {
   "cell_type": "code",
   "execution_count": 34,
   "metadata": {},
   "outputs": [
    {
     "data": {
      "image/png": "[encoded data removed]",
      "text/plain": [
       "<Figure size 432x288 with 1 Axes>"
      ]
     },
     "metadata": {
      "needs_background": "light"
     },
     "output_type": "display_data"
    }
   ],
   "source": [
    "#Plotting wave height as a function of wind speed using seaborn package\n",
    "x = windwave[0]\n",
    "y = windwave[1]\n",
    "sns.regplot(x,y,data=windwave,fit_reg=False)\n",
    "plt.ylabel('Height of Wave in m')\n",
    "plt.xlabel('Speed of Wind in m/s')\n",
    "plt.title('Wave Height as a function of Wave Speed')\n",
    "plt.grid()\n",
    "plt.show()"
   ]
  },
  {
   "cell_type": "markdown",
   "metadata": {},
   "source": [
    "One can see that as speed of wind increases, so does the height of wave. Therefore, data is linearly dependent as suspected."
   ]
  },
  {
   "cell_type": "code",
   "execution_count": 75,
   "metadata": {
    "scrolled": true
   },
   "outputs": [
    {
     "name": "stdout",
     "output_type": "stream",
     "text": [
      "Correlation coefficient, ruHs is: [[1.         0.32235428]\n",
      " [0.32235428 1.        ]]\n",
      "The 95% confidence is: <function checkcorr at 0x7f63d62f7b90>\n"
     ]
    }
   ],
   "source": [
    "#Calculating correlation coefficient, ruHs\n",
    "windwavecorr = np.corrcoef(windwave[1],windwave[0])\n",
    "print('Correlation coefficient, ruHs is:',windwavecorr)\n",
    "\n",
    "#Linear correlation at 95% confidence\n",
    "checkcorr(windwave,0.95)\n",
    "print('The 95% confidence is:',checkcorr)"
   ]
  },
  {
   "cell_type": "markdown",
   "metadata": {},
   "source": [
    "We can see that there is no linear correlation with 95% confidence."
   ]
  },
  {
   "cell_type": "code",
   "execution_count": 46,
   "metadata": {},
   "outputs": [
    {
     "ename": "TypeError",
     "evalue": "'function' object is not subscriptable",
     "output_type": "error",
     "traceback": [
      "\u001b[0;31m---------------------------------------------------------------------------\u001b[0m",
      "\u001b[0;31mTypeError\u001b[0m                                 Traceback (most recent call last)",
      "\u001b[0;32m<ipython-input-46-ed197e448140>\u001b[0m in \u001b[0;36m<module>\u001b[0;34m\u001b[0m\n\u001b[1;32m      2\u001b[0m \u001b[0;31m#First use the function c1 that calculates regression line\u001b[0m\u001b[0;34m\u001b[0m\u001b[0;34m\u001b[0m\u001b[0;34m\u001b[0m\u001b[0m\n\u001b[1;32m      3\u001b[0m \u001b[0mx\u001b[0m \u001b[0;34m=\u001b[0m \u001b[0mnp\u001b[0m\u001b[0;34m.\u001b[0m\u001b[0mlinspace\u001b[0m\u001b[0;34m(\u001b[0m\u001b[0;36m2.5\u001b[0m\u001b[0;34m,\u001b[0m\u001b[0;36m12\u001b[0m\u001b[0;34m,\u001b[0m\u001b[0;36m2\u001b[0m\u001b[0;34m)\u001b[0m\u001b[0;34m\u001b[0m\u001b[0;34m\u001b[0m\u001b[0m\n\u001b[0;32m----> 4\u001b[0;31m \u001b[0my\u001b[0m \u001b[0;34m=\u001b[0m \u001b[0mc1\u001b[0m\u001b[0;34m[\u001b[0m\u001b[0;36m0\u001b[0m\u001b[0;34m]\u001b[0m \u001b[0;34m+\u001b[0m \u001b[0mx\u001b[0m\u001b[0;34m*\u001b[0m\u001b[0mc1\u001b[0m\u001b[0;34m[\u001b[0m\u001b[0;36m1\u001b[0m\u001b[0;34m]\u001b[0m\u001b[0;34m\u001b[0m\u001b[0;34m\u001b[0m\u001b[0m\n\u001b[0m\u001b[1;32m      5\u001b[0m \u001b[0msns\u001b[0m\u001b[0;34m.\u001b[0m\u001b[0mregplot\u001b[0m\u001b[0;34m(\u001b[0m\u001b[0mx\u001b[0m\u001b[0;34m,\u001b[0m\u001b[0my\u001b[0m\u001b[0;34m,\u001b[0m\u001b[0mdata\u001b[0m\u001b[0;34m=\u001b[0m\u001b[0mwindwave\u001b[0m\u001b[0;34m,\u001b[0m\u001b[0mfit_reg\u001b[0m\u001b[0;34m=\u001b[0m\u001b[0;32mFalse\u001b[0m\u001b[0;34m)\u001b[0m\u001b[0;34m\u001b[0m\u001b[0;34m\u001b[0m\u001b[0m\n\u001b[1;32m      6\u001b[0m \u001b[0mplt\u001b[0m\u001b[0;34m.\u001b[0m\u001b[0mxlabel\u001b[0m\u001b[0;34m(\u001b[0m\u001b[0;34m'Speed of Wind in m/s'\u001b[0m\u001b[0;34m)\u001b[0m\u001b[0;34m\u001b[0m\u001b[0;34m\u001b[0m\u001b[0m\n",
      "\u001b[0;31mTypeError\u001b[0m: 'function' object is not subscriptable"
     ]
    }
   ],
   "source": [
    "#Calculating linear regreesion line, Hs\n",
    "#First use the function c1 that calculates regression line\n",
    "x = np.linspace(2.5,12,2)\n",
    "y = c1[0] + x*c1[1]\n",
    "sns.regplot(x,y,data=windwave,fit_reg=False)\n",
    "plt.xlabel('Speed of Wind in m/s')\n",
    "plt.ylabel('Height of Wave in m')\n",
    "plt.title('Height of Wave as a Function of Speed of Wind with Reg. Line')\n",
    "plt.plot(x,y,label='Regression Line ($H_s$)',color='red')\n",
    "plt.xlim(3,11)\n",
    "plt.legend()\n",
    "plt.grid()\n",
    "plt.show()\n",
    "\n",
    "#Printing the slope of plot\n",
    "print('The slope is:',c1[1])"
   ]
  },
  {
   "cell_type": "code",
   "execution_count": 50,
   "metadata": {},
   "outputs": [],
   "source": [
    "#Adding regression lines with uncertainties\n",
    "#First define a bunch of functions for uncertainties\n",
    "def epsilon(a,b,c):\n",
    "    d = len(a)\n",
    "    e = 0\n",
    "    f = c1(a,b,c)\n",
    "    for i in range(d):\n",
    "        D = c[i] - c[0] - c[1]*b[i]\n",
    "        e = e + (D**2)\n",
    "    sepsilon = np.sqrt(e/d-2)\n",
    "    return(epsilon)\n",
    "\n",
    "def xx(a,b,c):\n",
    "    d = len(a)\n",
    "    e = 0\n",
    "    for i in range(d):\n",
    "        a = b[i] - np.nanmean(b)\n",
    "        e = e + (a**2)\n",
    "    xx = e/(d-1)\n",
    "    return(xx)\n",
    "\n",
    "def x2(a,b,c):\n",
    "    x2 = np.sqrt(xx(a,b,c))\n",
    "    return(x2)\n",
    "\n",
    "def uncertainty(a,b,c,d):\n",
    "    e = len(a)\n",
    "    f = stats.t.ppf(1-(1-d)/2,e-1)\n",
    "    g = np.sqrt(e-1)*xx(a,b,c)\n",
    "    efg = epsilon(a,b,c) * (f/g)\n",
    "    return(efg)"
   ]
  },
  {
   "cell_type": "code",
   "execution_count": 52,
   "metadata": {},
   "outputs": [
    {
     "ename": "TypeError",
     "evalue": "unsupported operand type(s) for *: 'function' and 'float'",
     "output_type": "error",
     "traceback": [
      "\u001b[0;31m---------------------------------------------------------------------------\u001b[0m",
      "\u001b[0;31mTypeError\u001b[0m                                 Traceback (most recent call last)",
      "\u001b[0;32m<ipython-input-52-d361c39830c5>\u001b[0m in \u001b[0;36m<module>\u001b[0;34m\u001b[0m\n\u001b[0;32m----> 1\u001b[0;31m \u001b[0munc\u001b[0m \u001b[0;34m=\u001b[0m \u001b[0muncertainty\u001b[0m\u001b[0;34m(\u001b[0m\u001b[0mwindwave\u001b[0m\u001b[0;34m,\u001b[0m\u001b[0mwindwave\u001b[0m\u001b[0;34m[\u001b[0m\u001b[0;36m0\u001b[0m\u001b[0;34m]\u001b[0m\u001b[0;34m,\u001b[0m\u001b[0mwindwave\u001b[0m\u001b[0;34m[\u001b[0m\u001b[0;36m1\u001b[0m\u001b[0;34m]\u001b[0m\u001b[0;34m,\u001b[0m\u001b[0;36m0.95\u001b[0m\u001b[0;34m)\u001b[0m\u001b[0;34m\u001b[0m\u001b[0;34m\u001b[0m\u001b[0m\n\u001b[0m\u001b[1;32m      2\u001b[0m \u001b[0mx\u001b[0m \u001b[0;34m=\u001b[0m \u001b[0mnp\u001b[0m\u001b[0;34m.\u001b[0m\u001b[0mlinspace\u001b[0m\u001b[0;34m(\u001b[0m\u001b[0;36m2.5\u001b[0m\u001b[0;34m,\u001b[0m\u001b[0;36m12\u001b[0m\u001b[0;34m,\u001b[0m\u001b[0;36m2\u001b[0m\u001b[0;34m)\u001b[0m\u001b[0;34m\u001b[0m\u001b[0;34m\u001b[0m\u001b[0m\n\u001b[1;32m      3\u001b[0m \u001b[0ml1\u001b[0m \u001b[0;34m=\u001b[0m \u001b[0mc1\u001b[0m\u001b[0;34m[\u001b[0m\u001b[0;36m0\u001b[0m\u001b[0;34m]\u001b[0m \u001b[0;34m+\u001b[0m \u001b[0mx\u001b[0m\u001b[0;34m*\u001b[0m\u001b[0mc1\u001b[0m\u001b[0;34m[\u001b[0m\u001b[0;36m1\u001b[0m\u001b[0;34m]\u001b[0m\u001b[0;34m\u001b[0m\u001b[0;34m\u001b[0m\u001b[0m\n\u001b[1;32m      4\u001b[0m \u001b[0ml2\u001b[0m \u001b[0;34m=\u001b[0m \u001b[0mc1\u001b[0m\u001b[0;34m[\u001b[0m\u001b[0;36m0\u001b[0m\u001b[0;34m]\u001b[0m \u001b[0;34m+\u001b[0m \u001b[0mx\u001b[0m\u001b[0;34m*\u001b[0m\u001b[0;34m(\u001b[0m\u001b[0mc1\u001b[0m\u001b[0;34m[\u001b[0m\u001b[0;36m1\u001b[0m\u001b[0;34m]\u001b[0m \u001b[0;34m+\u001b[0m \u001b[0munc\u001b[0m\u001b[0;34m)\u001b[0m\u001b[0;34m\u001b[0m\u001b[0;34m\u001b[0m\u001b[0m\n\u001b[1;32m      5\u001b[0m \u001b[0ml3\u001b[0m \u001b[0;34m=\u001b[0m \u001b[0mc1\u001b[0m\u001b[0;34m[\u001b[0m\u001b[0;36m0\u001b[0m\u001b[0;34m]\u001b[0m \u001b[0;34m+\u001b[0m \u001b[0mx\u001b[0m\u001b[0;34m*\u001b[0m\u001b[0;34m(\u001b[0m\u001b[0mc1\u001b[0m\u001b[0;34m[\u001b[0m\u001b[0;36m1\u001b[0m\u001b[0;34m]\u001b[0m \u001b[0;34m-\u001b[0m \u001b[0munc\u001b[0m\u001b[0;34m)\u001b[0m\u001b[0;34m\u001b[0m\u001b[0;34m\u001b[0m\u001b[0m\n",
      "\u001b[0;32m<ipython-input-50-05ec748bbf0f>\u001b[0m in \u001b[0;36muncertainty\u001b[0;34m(a, b, c, d)\u001b[0m\n\u001b[1;32m     28\u001b[0m     \u001b[0mf\u001b[0m \u001b[0;34m=\u001b[0m \u001b[0mstats\u001b[0m\u001b[0;34m.\u001b[0m\u001b[0mt\u001b[0m\u001b[0;34m.\u001b[0m\u001b[0mppf\u001b[0m\u001b[0;34m(\u001b[0m\u001b[0;36m1\u001b[0m\u001b[0;34m-\u001b[0m\u001b[0;34m(\u001b[0m\u001b[0;36m1\u001b[0m\u001b[0;34m-\u001b[0m\u001b[0md\u001b[0m\u001b[0;34m)\u001b[0m\u001b[0;34m/\u001b[0m\u001b[0;36m2\u001b[0m\u001b[0;34m,\u001b[0m\u001b[0me\u001b[0m\u001b[0;34m-\u001b[0m\u001b[0;36m1\u001b[0m\u001b[0;34m)\u001b[0m\u001b[0;34m\u001b[0m\u001b[0;34m\u001b[0m\u001b[0m\n\u001b[1;32m     29\u001b[0m     \u001b[0mg\u001b[0m \u001b[0;34m=\u001b[0m \u001b[0mnp\u001b[0m\u001b[0;34m.\u001b[0m\u001b[0msqrt\u001b[0m\u001b[0;34m(\u001b[0m\u001b[0me\u001b[0m\u001b[0;34m-\u001b[0m\u001b[0;36m1\u001b[0m\u001b[0;34m)\u001b[0m\u001b[0;34m*\u001b[0m\u001b[0mxx\u001b[0m\u001b[0;34m(\u001b[0m\u001b[0ma\u001b[0m\u001b[0;34m,\u001b[0m\u001b[0mb\u001b[0m\u001b[0;34m,\u001b[0m\u001b[0mc\u001b[0m\u001b[0;34m)\u001b[0m\u001b[0;34m\u001b[0m\u001b[0;34m\u001b[0m\u001b[0m\n\u001b[0;32m---> 30\u001b[0;31m     \u001b[0mefg\u001b[0m \u001b[0;34m=\u001b[0m \u001b[0mepsilon\u001b[0m\u001b[0;34m(\u001b[0m\u001b[0ma\u001b[0m\u001b[0;34m,\u001b[0m\u001b[0mb\u001b[0m\u001b[0;34m,\u001b[0m\u001b[0mc\u001b[0m\u001b[0;34m)\u001b[0m \u001b[0;34m*\u001b[0m \u001b[0;34m(\u001b[0m\u001b[0mf\u001b[0m\u001b[0;34m/\u001b[0m\u001b[0mg\u001b[0m\u001b[0;34m)\u001b[0m\u001b[0;34m\u001b[0m\u001b[0;34m\u001b[0m\u001b[0m\n\u001b[0m\u001b[1;32m     31\u001b[0m     \u001b[0;32mreturn\u001b[0m\u001b[0;34m(\u001b[0m\u001b[0mefg\u001b[0m\u001b[0;34m)\u001b[0m\u001b[0;34m\u001b[0m\u001b[0;34m\u001b[0m\u001b[0m\n",
      "\u001b[0;31mTypeError\u001b[0m: unsupported operand type(s) for *: 'function' and 'float'"
     ]
    }
   ],
   "source": [
    "unc = uncertainty(windwave,windwave[0],windwave[1],0.95)\n",
    "x = np.linspace(2.5,12,2)\n",
    "l1 = c1[0] + x*c1[1]\n",
    "l2 = c1[0] + x*(c1[1] + unc)\n",
    "l3 = c1[0] + x*(c1[1] - unc)\n",
    "x = windwave[0]\n",
    "y = windwave[1]\n",
    "sns.regplot(x,y,data=windwave, fit_reg=False)\n",
    "plt.title('Height of Wave as a Function of Speed of Wind with multiple Reg. Lines and Uncertainties')\n",
    "plt.xlabel('Speed of Wind in m/s')\n",
    "plt.ylabel('Height of Wave in m')\n",
    "plt.xlim(10,11)\n",
    "plt.plot(x,l1,label='($H_s$)',color='red')\n",
    "plt.plot(x,l2,label='+ Uncertainty',color='orange')\n",
    "plt.plot(x,l3,label='- Uncertainty',color='green')\n",
    "plt.legend()\n",
    "plt.grid()\n",
    "plt.show()"
   ]
  },
  {
   "cell_type": "code",
   "execution_count": 54,
   "metadata": {},
   "outputs": [
    {
     "ename": "TypeError",
     "evalue": "'function' object is not subscriptable",
     "output_type": "error",
     "traceback": [
      "\u001b[0;31m---------------------------------------------------------------------------\u001b[0m",
      "\u001b[0;31mTypeError\u001b[0m                                 Traceback (most recent call last)",
      "\u001b[0;32m<ipython-input-54-b79c0eff5df0>\u001b[0m in \u001b[0;36m<module>\u001b[0;34m\u001b[0m\n\u001b[1;32m      1\u001b[0m \u001b[0;31m#95% confidence interval for the slope of the same plot\u001b[0m\u001b[0;34m\u001b[0m\u001b[0;34m\u001b[0m\u001b[0;34m\u001b[0m\u001b[0m\n\u001b[1;32m      2\u001b[0m \u001b[0mx\u001b[0m \u001b[0;34m=\u001b[0m \u001b[0mnp\u001b[0m\u001b[0;34m.\u001b[0m\u001b[0mlinspace\u001b[0m\u001b[0;34m(\u001b[0m\u001b[0;36m2.5\u001b[0m\u001b[0;34m,\u001b[0m\u001b[0;36m12\u001b[0m\u001b[0;34m,\u001b[0m\u001b[0;36m2\u001b[0m\u001b[0;34m)\u001b[0m\u001b[0;34m\u001b[0m\u001b[0;34m\u001b[0m\u001b[0m\n\u001b[0;32m----> 3\u001b[0;31m \u001b[0ml11\u001b[0m \u001b[0;34m=\u001b[0m \u001b[0mc1\u001b[0m\u001b[0;34m[\u001b[0m\u001b[0;36m0\u001b[0m\u001b[0;34m]\u001b[0m \u001b[0;34m+\u001b[0m \u001b[0mx\u001b[0m\u001b[0;34m*\u001b[0m\u001b[0mc1\u001b[0m\u001b[0;34m[\u001b[0m\u001b[0;36m1\u001b[0m\u001b[0;34m]\u001b[0m\u001b[0;34m\u001b[0m\u001b[0;34m\u001b[0m\u001b[0m\n\u001b[0m\u001b[1;32m      4\u001b[0m \u001b[0ml22\u001b[0m \u001b[0;34m=\u001b[0m \u001b[0ma\u001b[0m\u001b[0;34m(\u001b[0m\u001b[0mwindwave\u001b[0m\u001b[0;34m[\u001b[0m\u001b[0;36m0\u001b[0m\u001b[0;34m]\u001b[0m\u001b[0;34m,\u001b[0m\u001b[0mwindwave\u001b[0m\u001b[0;34m[\u001b[0m\u001b[0;36m1\u001b[0m\u001b[0;34m]\u001b[0m\u001b[0;34m,\u001b[0m\u001b[0mc1\u001b[0m\u001b[0;34m[\u001b[0m\u001b[0;36m1\u001b[0m\u001b[0;34m]\u001b[0m\u001b[0;34m+\u001b[0m\u001b[0munc\u001b[0m\u001b[0;34m)\u001b[0m \u001b[0;34m+\u001b[0m \u001b[0mx\u001b[0m\u001b[0;34m*\u001b[0m\u001b[0;34m(\u001b[0m\u001b[0mc1\u001b[0m\u001b[0;34m[\u001b[0m\u001b[0;36m1\u001b[0m\u001b[0;34m]\u001b[0m\u001b[0;34m+\u001b[0m\u001b[0munc\u001b[0m\u001b[0;34m)\u001b[0m\u001b[0;34m\u001b[0m\u001b[0;34m\u001b[0m\u001b[0m\n\u001b[1;32m      5\u001b[0m \u001b[0ml33\u001b[0m \u001b[0;34m=\u001b[0m \u001b[0ma\u001b[0m\u001b[0;34m(\u001b[0m\u001b[0mwindwave\u001b[0m\u001b[0;34m[\u001b[0m\u001b[0;36m0\u001b[0m\u001b[0;34m]\u001b[0m\u001b[0;34m,\u001b[0m\u001b[0mwindwave\u001b[0m\u001b[0;34m[\u001b[0m\u001b[0;36m1\u001b[0m\u001b[0;34m]\u001b[0m\u001b[0;34m,\u001b[0m\u001b[0mc1\u001b[0m\u001b[0;34m[\u001b[0m\u001b[0;36m1\u001b[0m\u001b[0;34m]\u001b[0m\u001b[0;34m-\u001b[0m\u001b[0munc\u001b[0m\u001b[0;34m)\u001b[0m \u001b[0;34m+\u001b[0m \u001b[0mx\u001b[0m\u001b[0;34m*\u001b[0m\u001b[0;34m(\u001b[0m\u001b[0mc1\u001b[0m\u001b[0;34m[\u001b[0m\u001b[0;36m1\u001b[0m\u001b[0;34m]\u001b[0m\u001b[0;34m-\u001b[0m\u001b[0munc\u001b[0m\u001b[0;34m)\u001b[0m\u001b[0;34m\u001b[0m\u001b[0;34m\u001b[0m\u001b[0m\n",
      "\u001b[0;31mTypeError\u001b[0m: 'function' object is not subscriptable"
     ]
    }
   ],
   "source": [
    "#95% confidence interval for the slope of the same plot\n",
    "x = np.linspace(2.5,12,2)\n",
    "l11 = c1[0] + x*c1[1]\n",
    "l22 = a(windwave[0],windwave[1],c1[1]+unc) + x*(c1[1]+unc)\n",
    "l33 = a(windwave[0],windwave[1],c1[1]-unc) + x*(c1[1]-unc)\n",
    "x3 = windwave[0]\n",
    "y3 = windwave[1]\n",
    "sns.regplot(x3,y3,data=windwave,fit_reg=False)\n",
    "plt.title('Previous plot with a 95% confidence interval')\n",
    "plt.xlabel('Speed of Wind in m/s')\n",
    "plt.ylabel('Height of Wave in m')\n",
    "plt.plot(x,l11,label='($H_s$)',color='red')\n",
    "plt.plot(x,l22,label='+ Uncertainty',color='orange')\n",
    "plt.plot(x,l33,label='- Uncertainty',color='green')\n",
    "plt.xlim(3,11)\n",
    "plt.legend()\n",
    "plt.grid()\n",
    "plt.show()\n",
    "print('+ve slope is:',c1[1]+unc,'and -ve slope is:',c1[1]-unc)"
   ]
  }
 ],
 "metadata": {
  "kernelspec": {
   "display_name": "Python 3",
   "language": "python",
   "name": "python3"
  },
  "language_info": {
   "codemirror_mode": {
    "name": "ipython",
    "version": 3
   },
   "file_extension": ".py",
   "mimetype": "text/x-python",
   "name": "python",
   "nbconvert_exporter": "python",
   "pygments_lexer": "ipython3",
   "version": "3.7.6"
  }
 },
 "nbformat": 4,
 "nbformat_minor": 4
}
